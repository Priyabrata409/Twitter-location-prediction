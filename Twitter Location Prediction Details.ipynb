{
 "cells": [
  {
   "cell_type": "markdown",
   "metadata": {},
   "source": [
    "# Data Scraping"
   ]
  },
  {
   "cell_type": "markdown",
   "metadata": {},
   "source": [
    "In this Session we will scrap  data from twitter using **Twitter API**with the help of Python's **Tweepy** Library"
   ]
  },
  {
   "cell_type": "markdown",
   "metadata": {},
   "source": [
    "The twitter data API makes incredibley easy to query tweets by Location ,Keywords etc."
   ]
  },
  {
   "cell_type": "markdown",
   "metadata": {},
   "source": [
    "To get started ,You will need to do the following things\n",
    "\n",
    "1.Set up twitter account if you don't have it already\n",
    "\n",
    "2.Using Your Twitter account, you will need to apply for Developer Access and then create an Application that will generate the API credentials that you will use to access Twitter from Python\n",
    "\n",
    "3.Import **Tweepy** Library\n",
    "\n",
    "Once you have done these things , you are ready to begin querying Twitter's API to see what you can learn about tweets"
   ]
  },
  {
   "cell_type": "markdown",
   "metadata": {},
   "source": [
    "### Access Twitter API in Python"
   ]
  },
  {
   "cell_type": "markdown",
   "metadata": {},
   "source": [
    "Once you have your Twitter app set-up , you are ready to access tweets in Python . Begin by importing necessary Python Libraries "
   ]
  },
  {
   "cell_type": "code",
   "execution_count": 2,
   "metadata": {},
   "outputs": [],
   "source": [
    "import pandas as pd\n",
    "import tweepy as tp\n",
    "import os\n",
    "import numpy as np\n",
    "import nltk"
   ]
  },
  {
   "cell_type": "markdown",
   "metadata": {},
   "source": [
    "To access the Twitter API, you will need 4 things from  your twitter App page. These keys are located in your Twitter app settings in the **Keys and Access Token** tab"
   ]
  },
  {
   "cell_type": "code",
   "execution_count": 3,
   "metadata": {},
   "outputs": [],
   "source": [
    "consumer_key=\"your_key_here\"\n",
    "consumer_secret=\"your_key_here\"\n",
    "access_token=\"your_key_here\"\n",
    "access_secret=\"your_key_here\"\n",
    "\n",
    "Note:-For security I have not mentioned the keys here"
   ]
  },
  {
   "cell_type": "code",
   "execution_count": null,
   "metadata": {},
   "outputs": [],
   "source": [
    "auth=tp.OAuthHandler(consumer_key,consumer_secret)\n",
    "auth.set_access_token(access_token,access_secret)\n",
    "api=tp.API(auth,wait_on_rate_limit=True)"
   ]
  },
  {
   "cell_type": "markdown",
   "metadata": {},
   "source": [
    "### Let's Search Tweet for specific Keywords"
   ]
  },
  {
   "cell_type": "markdown",
   "metadata": {},
   "source": [
    "#### Search Tweet for Keyword **Hyderabad**"
   ]
  },
  {
   "cell_type": "code",
   "execution_count": null,
   "metadata": {},
   "outputs": [],
   "source": [
    "new_search=\"Hyderabad\"+\" -filter:retweets\"## We are not considering Retweets\n",
    "tweets=tp.Cursor(api.search,q=new_search,lang=\"en\").items(700)\n",
    "data=[[tweet.user.id,tweet.user.name,tweet.user.screen_name,tweet.text,tweet.user.location,tweet.place,\"Hyderabad\"] for tweet in tweets]\n",
    "# tweet.user.id=\"Tweet user id\"\n",
    "# tweet.user.name=\"Actual Name of User\"\n",
    "# tweet.user.screen_name=\"User displaed name in Twitter\"\n",
    "# tweet.text=\"Tweet of user containing specific keyword\"\n",
    "# tweet.user.location=\"Home Location of User\"\n",
    "# tweet.palce=\"In order to get tweet location\""
   ]
  },
  {
   "cell_type": "code",
   "execution_count": null,
   "metadata": {},
   "outputs": [],
   "source": [
    "## Creating a dataframe out of it\n",
    "df1=pd.DataFrame(data,columns=[\"id\",\"name\",\"screen_name\",\"text\",\"home_location\",\"tweet_location\",\"mentioned_location\"])"
   ]
  },
  {
   "cell_type": "markdown",
   "metadata": {},
   "source": [
    "#### Similar Kind of thing is done for key word like \"Chennai\",and \"Mumbai\""
   ]
  },
  {
   "cell_type": "code",
   "execution_count": null,
   "metadata": {},
   "outputs": [],
   "source": [
    "new_search=\"Mumbai\"+\" -filter:retweets\"\n",
    "tweets=tp.Cursor(api.search,q=new_search,lang=\"en\").items(700)\n",
    "data=[[tweet.user.id,tweet.user.name,tweet.user.screen_name,tweet.text,tweet.user.location,tweet.place,\"Mumbai\"] for tweet in tweets]\n",
    "df2=pd.DataFrame(data,columns=[\"id\",\"name\",\"screen_name\",\"text\",\"home_location\",\"tweet_location\",\"mentioned_location\"])"
   ]
  },
  {
   "cell_type": "code",
   "execution_count": null,
   "metadata": {},
   "outputs": [],
   "source": [
    "new_search=\"Chennai\"+\" -filter:retweets\"\n",
    "tweets=tp.Cursor(api.search,q=new_search,lang=\"en\").items(700)\n",
    "data=[[tweet.user.id,tweet.user.name,tweet.user.screen_name,tweet.text,tweet.user.location,tweet.place,\"Chennai\"] for tweet in tweets]\n",
    "df3=pd.DataFrame(data,columns=[\"id\",\"name\",\"screen_name\",\"text\",\"home_location\",\"tweet_location\",\"mentioned_location\"])"
   ]
  },
  {
   "cell_type": "code",
   "execution_count": null,
   "metadata": {},
   "outputs": [],
   "source": [
    "## Let's Concatenate these 3 dataframes\n",
    "df_whole=pd.concat([df1,df2,df3])"
   ]
  },
  {
   "cell_type": "markdown",
   "metadata": {},
   "source": [
    "## Data Preprocessing"
   ]
  },
  {
   "cell_type": "markdown",
   "metadata": {},
   "source": [
    "#### Let's perform Basic preprocessing on extracted data"
   ]
  },
  {
   "cell_type": "code",
   "execution_count": null,
   "metadata": {},
   "outputs": [],
   "source": [
    "## Let's remove url from the end of each tweet\n",
    "import re\n",
    "def remove_url(x):\n",
    "  return \" \".join(re.sub(\"[^0-9A-Za-z \\t]0 | (\\w+:\\/\\/\\S+)\", \"\",x).split())\n",
    "\n",
    "df_whole[\"text\"]=df_whole[\"text\"].apply(lambda x : remove_url(x))"
   ]
  },
  {
   "cell_type": "code",
   "execution_count": null,
   "metadata": {},
   "outputs": [],
   "source": [
    "## Let's extract tweet location \n",
    "def extract_tweet_location(place):\n",
    "    try:\n",
    "      name=place.name\n",
    "      return name\n",
    "    except:\n",
    "      return None\n",
    "df_whole[\"tweet_location\"]=df_whole[\"tweet_location\"].apply(lambda x : extract_tweet_location(x))"
   ]
  },
  {
   "cell_type": "code",
   "execution_count": null,
   "metadata": {},
   "outputs": [],
   "source": [
    "## Let's Shuffle the dataset\n",
    "df_whole=df_whole.sample(frac=1).reset_index(drop=True)"
   ]
  },
  {
   "cell_type": "code",
   "execution_count": null,
   "metadata": {},
   "outputs": [],
   "source": [
    "data=df_whole.copy()"
   ]
  },
  {
   "cell_type": "code",
   "execution_count": null,
   "metadata": {},
   "outputs": [],
   "source": [
    "## Let's Remove the rows who doesn't have home location\n",
    "data2=data[data[\"home_location\"].notnull()]"
   ]
  },
  {
   "cell_type": "code",
   "execution_count": null,
   "metadata": {},
   "outputs": [],
   "source": [
    "## Let's Fill the Nan value of tweet_location column by home_location \n",
    "data2[\"tweet_location\"]=np.where(data2[\"tweet_location\"].isnull(),data2[\"home_location\"],data2[\"tweet_location\"])"
   ]
  },
  {
   "cell_type": "code",
   "execution_count": null,
   "metadata": {},
   "outputs": [],
   "source": [
    "## Let's remove the extra character from tweets like emojis ,punctuation\n",
    "data2[\"text\"]=data2[\"text\"].apply(lambda x: re.sub(\"[^A-Za-z']\",' ',x))"
   ]
  },
  {
   "cell_type": "code",
   "execution_count": null,
   "metadata": {},
   "outputs": [],
   "source": [
    "## Let's remove the extra character from home location and tweet location\n",
    "data2[\"home_location\"]=data2[\"home_location\"].apply(lambda x: re.sub(\"[^A-Za-z]\",' ',x).strip())\n",
    "data2[\"tweet_location\"]=data2[\"tweet_location\"].apply(lambda x: re.sub(\"[^A-Za-z]\",' ',x).strip())"
   ]
  },
  {
   "cell_type": "code",
   "execution_count": null,
   "metadata": {},
   "outputs": [],
   "source": [
    "## To remove Blank string By Nan Values\n",
    "data2[\"home_location\"].replace(\"\",np.nan,inplace=True)"
   ]
  },
  {
   "cell_type": "code",
   "execution_count": null,
   "metadata": {},
   "outputs": [],
   "source": [
    "## Let's Remove The Nan values and Create a new dataFrame\n",
    "data3=data2[data2[\"home_location\"].notnull()]"
   ]
  },
  {
   "cell_type": "code",
   "execution_count": null,
   "metadata": {},
   "outputs": [],
   "source": [
    "## Let's Save it in a CSV file\n",
    "data3.to_csv(\"Twitter_data.csv\",index=0)"
   ]
  },
  {
   "cell_type": "code",
   "execution_count": 1,
   "metadata": {},
   "outputs": [],
   "source": [
    "## Data Visulaization and Model building}"
   ]
  },
  {
   "cell_type": "code",
   "execution_count": 1,
   "metadata": {},
   "outputs": [],
   "source": [
    "import pandas as pd\n",
    "import nltk\n",
    "import numpy as np\n",
    "import matplotlib.pyplot as plt"
   ]
  },
  {
   "cell_type": "code",
   "execution_count": 2,
   "metadata": {},
   "outputs": [],
   "source": [
    "pd.set_option(\"display.max_columns\",10000)\n",
    "pd.set_option(\"display.max_rows\",10000)\n",
    "pd.set_option(\"display.max_colwidth\",10000)"
   ]
  },
  {
   "cell_type": "code",
   "execution_count": 3,
   "metadata": {},
   "outputs": [],
   "source": [
    "data=pd.read_csv(\"Twitter_data.csv\")"
   ]
  },
  {
   "cell_type": "code",
   "execution_count": 4,
   "metadata": {},
   "outputs": [
    {
     "data": {
      "text/html": [
       "<div>\n",
       "<style scoped>\n",
       "    .dataframe tbody tr th:only-of-type {\n",
       "        vertical-align: middle;\n",
       "    }\n",
       "\n",
       "    .dataframe tbody tr th {\n",
       "        vertical-align: top;\n",
       "    }\n",
       "\n",
       "    .dataframe thead th {\n",
       "        text-align: right;\n",
       "    }\n",
       "</style>\n",
       "<table border=\"1\" class=\"dataframe\">\n",
       "  <thead>\n",
       "    <tr style=\"text-align: right;\">\n",
       "      <th></th>\n",
       "      <th>id</th>\n",
       "      <th>name</th>\n",
       "      <th>screen_name</th>\n",
       "      <th>text</th>\n",
       "      <th>home_location</th>\n",
       "      <th>tweet_location</th>\n",
       "      <th>mentioned_location</th>\n",
       "    </tr>\n",
       "  </thead>\n",
       "  <tbody>\n",
       "    <tr>\n",
       "      <th>0</th>\n",
       "      <td>38069711</td>\n",
       "      <td>TMJ-INH Jobs</td>\n",
       "      <td>tmj_inh_jobs</td>\n",
       "      <td>If jobs with titles like  Senior Consultant  Customer  amp  Marketing   Customer Strategy Marketing    BLR HYD GUR  sou</td>\n",
       "      <td>Hyderabad</td>\n",
       "      <td>Hyderabad</td>\n",
       "      <td>Hyderabad</td>\n",
       "    </tr>\n",
       "    <tr>\n",
       "      <th>1</th>\n",
       "      <td>14935529</td>\n",
       "      <td>Citizen Matters</td>\n",
       "      <td>citizenmatters</td>\n",
       "      <td>Care about Mumbai  Here s what you can do to make it better https   t co uUBcsq uaJ</td>\n",
       "      <td>India</td>\n",
       "      <td>India</td>\n",
       "      <td>Mumbai</td>\n",
       "    </tr>\n",
       "    <tr>\n",
       "      <th>2</th>\n",
       "      <td>1305379023476764672</td>\n",
       "      <td>Screen2Hire</td>\n",
       "      <td>Screen2H</td>\n",
       "      <td>Looking for a SailPoint Developer with experience in SailPoint Identity IQ using Azure Devops and Agile Methodology</td>\n",
       "      <td>India</td>\n",
       "      <td>India</td>\n",
       "      <td>Hyderabad</td>\n",
       "    </tr>\n",
       "    <tr>\n",
       "      <th>3</th>\n",
       "      <td>215217705</td>\n",
       "      <td>Ashii</td>\n",
       "      <td>Ashii_Chennai</td>\n",
       "      <td>atti cus Omg   how many times they ll use the same techniques to win those filthy minds  There is a world beyond</td>\n",
       "      <td>India</td>\n",
       "      <td>India</td>\n",
       "      <td>Chennai</td>\n",
       "    </tr>\n",
       "    <tr>\n",
       "      <th>4</th>\n",
       "      <td>1321995824914554880</td>\n",
       "      <td>🕉️ Hindustāni 🕉️ 🛕 ♒</td>\n",
       "      <td>HSickulars</td>\n",
       "      <td>will join the Pakistan Forces and fight against India     Asaduddin Owaisi  Member of Parliament  MIM  Hyderabad</td>\n",
       "      <td>Bharat</td>\n",
       "      <td>Bharat</td>\n",
       "      <td>Hyderabad</td>\n",
       "    </tr>\n",
       "  </tbody>\n",
       "</table>\n",
       "</div>"
      ],
      "text/plain": [
       "                    id                  name     screen_name  \\\n",
       "0             38069711          TMJ-INH Jobs    tmj_inh_jobs   \n",
       "1             14935529       Citizen Matters  citizenmatters   \n",
       "2  1305379023476764672           Screen2Hire        Screen2H   \n",
       "3            215217705                 Ashii   Ashii_Chennai   \n",
       "4  1321995824914554880  🕉️ Hindustāni 🕉️ 🛕 ♒      HSickulars   \n",
       "\n",
       "                                                                                                                      text  \\\n",
       "0  If jobs with titles like  Senior Consultant  Customer  amp  Marketing   Customer Strategy Marketing    BLR HYD GUR  sou   \n",
       "1                                      Care about Mumbai  Here s what you can do to make it better https   t co uUBcsq uaJ   \n",
       "2      Looking for a SailPoint Developer with experience in SailPoint Identity IQ using Azure Devops and Agile Methodology   \n",
       "3         atti cus Omg   how many times they ll use the same techniques to win those filthy minds  There is a world beyond   \n",
       "4         will join the Pakistan Forces and fight against India     Asaduddin Owaisi  Member of Parliament  MIM  Hyderabad   \n",
       "\n",
       "  home_location tweet_location mentioned_location  \n",
       "0     Hyderabad      Hyderabad          Hyderabad  \n",
       "1         India          India             Mumbai  \n",
       "2         India          India          Hyderabad  \n",
       "3         India          India            Chennai  \n",
       "4        Bharat         Bharat          Hyderabad  "
      ]
     },
     "execution_count": 4,
     "metadata": {},
     "output_type": "execute_result"
    }
   ],
   "source": [
    "data.head()"
   ]
  },
  {
   "cell_type": "code",
   "execution_count": 5,
   "metadata": {},
   "outputs": [
    {
     "data": {
      "text/plain": [
       "409"
      ]
     },
     "execution_count": 5,
     "metadata": {},
     "output_type": "execute_result"
    }
   ],
   "source": [
    "data[\"home_location\"].nunique()"
   ]
  },
  {
   "cell_type": "code",
   "execution_count": 6,
   "metadata": {},
   "outputs": [
    {
     "data": {
      "text/plain": [
       "421"
      ]
     },
     "execution_count": 6,
     "metadata": {},
     "output_type": "execute_result"
    }
   ],
   "source": [
    "data[\"tweet_location\"].nunique()"
   ]
  },
  {
   "cell_type": "code",
   "execution_count": 7,
   "metadata": {},
   "outputs": [
    {
     "data": {
      "text/plain": [
       "Index(['Sialkot  Pakistan', 'Gaya  India', 'Oklahoma  USA',\n",
       "       'Coimbatore  Jaipur  Jodhpur', 'NYC', 'Varanasi  India',\n",
       "       'Trichy   Chennai', 'Idar Gujarat', 'Goregaon West  Mumbai',\n",
       "       'existential crisis',\n",
       "       ...\n",
       "       'Gurugram', 'Chennai  From Kollam  Kerala', 'Earth',\n",
       "       'Vidya Nagar  Adilabad', 'Hyderabad  India Kolkata', 'Surat  Gujarat',\n",
       "       'India Mumbai Thane', 'Hyderabad Vijayawada', 'New York  USA',\n",
       "       'Mira Road'],\n",
       "      dtype='object', length=315)"
      ]
     },
     "execution_count": 7,
     "metadata": {},
     "output_type": "execute_result"
    }
   ],
   "source": [
    "data[\"home_location\"].value_counts()[data[\"home_location\"].value_counts()==1].index"
   ]
  },
  {
   "cell_type": "code",
   "execution_count": 8,
   "metadata": {},
   "outputs": [
    {
     "data": {
      "text/plain": [
       "318"
      ]
     },
     "execution_count": 8,
     "metadata": {},
     "output_type": "execute_result"
    }
   ],
   "source": [
    "np.sum([data[\"tweet_location\"].value_counts()==1])"
   ]
  },
  {
   "cell_type": "markdown",
   "metadata": {},
   "source": [
    "I can see there are lot of similar values in home_location and tweet_location like \"Mumbai  India\" and \"Mumbai India\" the only difference is space betwwen them"
   ]
  },
  {
   "cell_type": "code",
   "execution_count": 9,
   "metadata": {},
   "outputs": [],
   "source": [
    "def format_loaction(x):\n",
    "    words=x.split()\n",
    "    words=[word.strip() for word in words]\n",
    "    return \" \".join(words)"
   ]
  },
  {
   "cell_type": "code",
   "execution_count": 10,
   "metadata": {},
   "outputs": [],
   "source": [
    "data[\"home_location\"]=data[\"home_location\"].apply(lambda x: format_loaction(x))\n",
    "data[\"tweet_location\"]=data[\"tweet_location\"].apply(lambda x: format_loaction(x))"
   ]
  },
  {
   "cell_type": "code",
   "execution_count": 11,
   "metadata": {},
   "outputs": [
    {
     "data": {
      "text/plain": [
       "414"
      ]
     },
     "execution_count": 11,
     "metadata": {},
     "output_type": "execute_result"
    }
   ],
   "source": [
    "data[\"tweet_location\"].nunique()"
   ]
  },
  {
   "cell_type": "code",
   "execution_count": 12,
   "metadata": {},
   "outputs": [
    {
     "data": {
      "text/plain": [
       "402"
      ]
     },
     "execution_count": 12,
     "metadata": {},
     "output_type": "execute_result"
    }
   ],
   "source": [
    "data[\"home_location\"].nunique()"
   ]
  },
  {
   "cell_type": "code",
   "execution_count": 13,
   "metadata": {},
   "outputs": [
    {
     "data": {
      "text/plain": [
       "India                                                                 213\n",
       "Mumbai India                                                          123\n",
       "Hyderabad India                                                       104\n",
       "Chennai India                                                          79\n",
       "Hyderabad                                                              71\n",
       "Chennai                                                                51\n",
       "Mumbai                                                                 46\n",
       "New Delhi India                                                        30\n",
       "New Delhi                                                              29\n",
       "Ranchi Jharkhand India                                                 22\n",
       "Delhi                                                                  18\n",
       "Tamil Nadu India                                                       17\n",
       "Bengaluru                                                              13\n",
       "Mumbai Maharashtra                                                     12\n",
       "Bengaluru India                                                        11\n",
       "Bangalore                                                               9\n",
       "INDIA                                                                   8\n",
       "india                                                                   7\n",
       "Kolkata India                                                           7\n",
       "mumbai                                                                  7\n",
       "Chennai Tamil Nadu                                                      7\n",
       "US                                                                      6\n",
       "Pune India                                                              6\n",
       "Hyderabad Telangana                                                     6\n",
       "Dubai United Arab Emirates                                              6\n",
       "Dhaka Bangladesh                                                        5\n",
       "Singapore                                                               5\n",
       "Worldwide                                                               5\n",
       "Indore India                                                            5\n",
       "Kerala India                                                            5\n",
       "Andhra Pradesh India                                                    5\n",
       "Chennai Tamilnadu                                                       5\n",
       "Pakistan                                                                4\n",
       "Durgapur West Bengal                                                    4\n",
       "bengaluru india                                                         4\n",
       "hyderabad                                                               4\n",
       "CHENNAI PERIA MET                                                       4\n",
       "Uttar Pradesh India                                                     4\n",
       "chennai                                                                 4\n",
       "Bharat                                                                  4\n",
       "Hyderabad Andhra Pradesh                                                4\n",
       "Mumbai Ahmedabad India                                                  3\n",
       "Gurgaon                                                                 3\n",
       "Karnataka India                                                         3\n",
       "Ahmadabad City India                                                    3\n",
       "The Indo European Homeland                                              3\n",
       "Bangalore India                                                         3\n",
       "Global                                                                  3\n",
       "Maharashtra India                                                       3\n",
       "Jaipur India                                                            3\n",
       "South India                                                             3\n",
       "New Delhi Delhi                                                         3\n",
       "United States                                                           2\n",
       "All over Mumbai                                                         2\n",
       "hasthinapuram                                                           2\n",
       "Bombay India                                                            2\n",
       "DEL LKO                                                                 2\n",
       "Hyderabad mumbai India                                                  2\n",
       "Noida                                                                   2\n",
       "Nepal                                                                   2\n",
       "Bangalore Delhi Hyd Pune                                                2\n",
       "vijayawada india                                                        2\n",
       "Thane Maharashtra                                                       2\n",
       "Phuket Province Thailand                                                2\n",
       "Hyderabad Telangana India                                               2\n",
       "Islamabad Pakistan                                                      2\n",
       "Karachi Pakistan                                                        2\n",
       "Hyderabad Telangana State                                               2\n",
       "Tamilnadu                                                               2\n",
       "she her                                                                 2\n",
       "chennai india                                                           2\n",
       "bharata                                                                 2\n",
       "Hyderabad Chennai India                                                 2\n",
       "Thanjavur India                                                         2\n",
       "Oslo Norway                                                             2\n",
       "Mumbai Maharashtra India                                                2\n",
       "Azadpur New Delhi                                                       2\n",
       "City of Dreams                                                          2\n",
       "Bharatvarsh                                                             2\n",
       "Where sport happens                                                     2\n",
       "Kolkata                                                                 2\n",
       "Rajasthan                                                               2\n",
       "Chennai Tamilnadu India                                                 2\n",
       "Delhi NCR India                                                         2\n",
       "Gujurat Pakistan                                                        2\n",
       "USA                                                                     2\n",
       "United Kingdom                                                          2\n",
       "Surat India                                                             2\n",
       "Perambur Purasavakam India                                              2\n",
       "Magrathea                                                               2\n",
       "Nagpur                                                                  2\n",
       "HINDUSTAN                                                               2\n",
       "mangalore                                                               2\n",
       "Delhi India                                                             2\n",
       "madhapur                                                                1\n",
       "Medak India                                                             1\n",
       "Delhi Faridabad Ghaziabad                                               1\n",
       "Jeedimetla Medchal                                                      1\n",
       "On Earth                                                                1\n",
       "Singrauli MP India                                                      1\n",
       "Anna Nagar Chennai                                                      1\n",
       "Kalyan Dombivali India                                                  1\n",
       "N E                                                                     1\n",
       "Oklahoma USA                                                            1\n",
       "SR Nagar Hyderabad                                                      1\n",
       "Del Blr Mum Chennai                                                     1\n",
       "Sonyliv                                                                 1\n",
       "Mumbai Hyderabad                                                        1\n",
       "Jajpur Odisha                                                           1\n",
       "Coimbatore Jaipur Jodhpur                                               1\n",
       "Chennai india                                                           1\n",
       "Karimnagar India                                                        1\n",
       "Hyderabad India Calcutta                                                1\n",
       "Chattisgarh                                                             1\n",
       "SULLURUPET INDIA                                                        1\n",
       "Maharashtra                                                             1\n",
       "Himayat Nagar Hyderabad                                                 1\n",
       "Tharakshi Uthukottai                                                    1\n",
       "Goregaon West Mumbai                                                    1\n",
       "Bandra West Mumbai                                                      1\n",
       "Chennai Tamil Nadu India                                                1\n",
       "Kolkata West Bengal India                                               1\n",
       "Telangana                                                               1\n",
       "Berlin Germany                                                          1\n",
       "Guwahati Assam India                                                    1\n",
       "Belgium                                                                 1\n",
       "Doda Jammu And Kashmir India                                            1\n",
       "Perambalur                                                              1\n",
       "NYC                                                                     1\n",
       "Idar Gujarat                                                            1\n",
       "E N                                                                     1\n",
       "National Capital Region                                                 1\n",
       "Aerocity New Delhi                                                      1\n",
       "Vijayawada India                                                        1\n",
       "vaniyambadi                                                             1\n",
       "Sharepoint                                                              1\n",
       "Al Khobar Saudi Arabia                                                  1\n",
       "Metha Nagar Nungambakkam                                                1\n",
       "uk                                                                      1\n",
       "Spokane Valley WA                                                       1\n",
       "Kathmandu Nepal                                                         1\n",
       "Vizag India                                                             1\n",
       "Oblivion                                                                1\n",
       "Earth Milky way                                                         1\n",
       "Winden                                                                  1\n",
       "Chembur Mumbai                                                          1\n",
       "Chennai Auroville Kalvarayan                                            1\n",
       "Utopia                                                                  1\n",
       "Int l Relations Politics                                                1\n",
       "Bombay                                                                  1\n",
       "Between Europe what s ahead                                             1\n",
       "Chachro Sindh Pakistan                                                  1\n",
       "Ph                                                                      1\n",
       "South of Vindhya                                                        1\n",
       "France                                                                  1\n",
       "Kalyan Dombivli India                                                   1\n",
       "Gurgaon India                                                           1\n",
       "planet OdbolzToys                                                       1\n",
       "Nellore India                                                           1\n",
       "Vasudhaiva Kutumbakam                                                   1\n",
       "Hyderabad India thalapathy                                              1\n",
       "Degec                                                                   1\n",
       "Mum                                                                     1\n",
       "Niger                                                                   1\n",
       "Hyderabad Bengaluru                                                     1\n",
       "Surat Gujarat                                                           1\n",
       "Jammu India                                                             1\n",
       "Rajendra Nagar India                                                    1\n",
       "Bettiah India                                                           1\n",
       "South Africa                                                            1\n",
       "mainly bts txt lorde                                                    1\n",
       "Hyderabad India Kolkata                                                 1\n",
       "Stockholm Sweden                                                        1\n",
       "North West England                                                      1\n",
       "New York USA                                                            1\n",
       "delhi                                                                   1\n",
       "Sialkot Pakistan                                                        1\n",
       "Patna India                                                             1\n",
       "Varsha s basement                                                       1\n",
       "Bhopal India                                                            1\n",
       "Home sweet home                                                         1\n",
       "Trichy Chennai                                                          1\n",
       "Find me in MUMBAI                                                       1\n",
       "World                                                                   1\n",
       "Uppal Hyderabad                                                         1\n",
       "Bangalore Hyderabad India                                               1\n",
       "Toronto Canada                                                          1\n",
       "Bonn Germany                                                            1\n",
       "Machilipatnam Vijayawada                                                1\n",
       "Indraprastha                                                            1\n",
       "Assam                                                                   1\n",
       "India USA                                                               1\n",
       "Patna bihar India                                                       1\n",
       "Ssr ki yado mai                                                         1\n",
       "Vishakhapatnam India                                                    1\n",
       "sawantwadi                                                              1\n",
       "Bombay Mumbai                                                           1\n",
       "United States of Americauk                                              1\n",
       "jahan girne ko mil jaye                                                 1\n",
       "Mumbai Maharashtra BHARAT                                               1\n",
       "Nagpur India                                                            1\n",
       "Noida Uttar Pradesh                                                     1\n",
       "Thiruvananthapuram Kerala                                               1\n",
       "Bhagyanagar Hyderabad India                                             1\n",
       "kuwait                                                                  1\n",
       "Dak i patha Bh ratam                                                    1\n",
       "Akhand Bharat                                                           1\n",
       "Vizag Andhra pradesh INDIA                                              1\n",
       "vellore                                                                 1\n",
       "Haryana India                                                           1\n",
       "Sunnyvale CA                                                            1\n",
       "Vasai                                                                   1\n",
       "Antarctica                                                              1\n",
       "Mohali India                                                            1\n",
       "Bengaluru INDIA                                                         1\n",
       "Hyderabad india                                                         1\n",
       "Main Hoon hi Nhi is Duniya ki                                           1\n",
       "Mumbai Delhi NCR                                                        1\n",
       "Worldwide applicable                                                    1\n",
       "Kurla West Mumbai                                                       1\n",
       "Coruscant                                                               1\n",
       "Maduranthakam India                                                     1\n",
       "Las Vegas                                                               1\n",
       "London UK                                                               1\n",
       "Chand pe hu BC                                                          1\n",
       "Andheri West Mumbai                                                     1\n",
       "South Mumbai                                                            1\n",
       "Duraiswamy Rd T Nagar                                                   1\n",
       "Bh rat                                                                  1\n",
       "Madhepura India                                                         1\n",
       "Sanand Industrial Area Gujara                                           1\n",
       "Ask your Mama                                                           1\n",
       "South of India                                                          1\n",
       "Los Angeles CA                                                          1\n",
       "Ahmedabad City India                                                    1\n",
       "United States India                                                     1\n",
       "Chirala India                                                           1\n",
       "chennai INDIA                                                           1\n",
       "Mira Road Mumbai                                                        1\n",
       "Hyderabad Pakistan                                                      1\n",
       "Gaya India                                                              1\n",
       "Lahore Pakistan                                                         1\n",
       "Belagavi Karnataka India                                                1\n",
       "Malaysia                                                                1\n",
       "Tamil Nadu                                                              1\n",
       "Kyun kya karoge jaankar                                                 1\n",
       "https g page violetspark gm                                             1\n",
       "The Earth                                                               1\n",
       "CODE SKR ad                                                             1\n",
       "Chicago IL                                                              1\n",
       "Palavakkam ECR Chennai                                                  1\n",
       "Hyderabad Medak                                                         1\n",
       "London United Kingdom                                                   1\n",
       "Baramulla Kashmir                                                       1\n",
       "Goa India                                                               1\n",
       "Dammam Kingdom of Saudi Arabi                                           1\n",
       "Global INDIA                                                            1\n",
       "KADAPA blore INDIA                                                      1\n",
       "Navsari India                                                           1\n",
       "Gujarat India                                                           1\n",
       "Kerala                                                                  1\n",
       "Punjagutta Hyderabad                                                    1\n",
       "New Delhi INDIA                                                         1\n",
       "India France Malaysia Russia                                            1\n",
       "existential crisis                                                      1\n",
       "Hyderabad Deccan                                                        1\n",
       "Planet Earth                                                            1\n",
       "Harrow London                                                           1\n",
       "Vishwam                                                                 1\n",
       "New Delhi Chennai                                                       1\n",
       "Vijayawada                                                              1\n",
       "Leek Staffs England                                                     1\n",
       "British India                                                           1\n",
       "Turbhe                                                                  1\n",
       "Varanasi India                                                          1\n",
       "over populated planet                                                   1\n",
       "Bharat India                                                            1\n",
       "Kanpur India                                                            1\n",
       "Matheran India                                                          1\n",
       "In some one s heart                                                     1\n",
       "Bhopal Madhya Pradesh                                                   1\n",
       "CGK JOG                                                                 1\n",
       "Mollem                                                                  1\n",
       "Kailaasa                                                                1\n",
       "Bangkok Thailand                                                        1\n",
       "Jupiter                                                                 1\n",
       "Bhoomi                                                                  1\n",
       "Chennai Tamil nadu India                                                1\n",
       "Bangalore KA                                                            1\n",
       "Vaikuntham                                                              1\n",
       "Hari Chmbrs SBS Rd Fort                                                 1\n",
       "Hyderbad                                                                1\n",
       "San Jose CA                                                             1\n",
       "Pragati Maidan New Delhi                                                1\n",
       "Patancheru Sangareddy                                                   1\n",
       "manhoosabad                                                             1\n",
       "Saitama Japan                                                           1\n",
       "bharat                                                                  1\n",
       "yelahanka Bangalore                                                     1\n",
       "Arumbakkam                                                              1\n",
       "Punjab India                                                            1\n",
       "Chandigarh India                                                        1\n",
       "Somewhere in Earth                                                      1\n",
       "SAARE JAHANSE ACCHA HINDUSTAN                                           1\n",
       "Mumbai Thane                                                            1\n",
       "Gujarat india                                                           1\n",
       "San Francisco                                                           1\n",
       "England United Kingdom                                                  1\n",
       "Pragathi Nagar Medchal                                                  1\n",
       "Madras Tamil Nadu                                                       1\n",
       "Kukatpally Rajendra Nagar                                               1\n",
       "Pallipalayam India                                                      1\n",
       "Trichy                                                                  1\n",
       "Tokyo                                                                   1\n",
       "God s Own Country                                                       1\n",
       "Newdelhi                                                                1\n",
       "KoparKhairane Navi Mumbai                                               1\n",
       "UK                                                                      1\n",
       "Thane                                                                   1\n",
       "cloud of Hell                                                           1\n",
       "Korattur Chennai Tamil Nadu                                             1\n",
       "California USA                                                          1\n",
       "Dubai                                                                   1\n",
       "India Visakhapatnam                                                     1\n",
       "United States India EMEA                                                1\n",
       "Varanasi                                                                1\n",
       "Lucknow Uttar Pradesh India                                             1\n",
       "Pathanamthitta India                                                    1\n",
       "Ghatkopar Mumbai                                                        1\n",
       "San Ramon CA                                                            1\n",
       "NOIDA                                                                   1\n",
       "Maansarovar                                                             1\n",
       "Midway UT                                                               1\n",
       "New Jersey USA                                                          1\n",
       "Washington DC                                                           1\n",
       "AbuDhabi SanFransisco London                                            1\n",
       "Guwahati                                                                1\n",
       "India DBS Fellow                                                        1\n",
       "miryalaguda                                                             1\n",
       "AP TN                                                                   1\n",
       "kanyakumari payapulla                                                   1\n",
       "Sultanpur New Delhi                                                     1\n",
       "T                                                                       1\n",
       "World Wide Web                                                          1\n",
       "Doha Qatar                                                              1\n",
       "Houston TX                                                              1\n",
       "SidNaaz                                                                 1\n",
       "Vadodara Gujarat India                                                  1\n",
       "Trivandrum India                                                        1\n",
       "Ningyak bekadu                                                          1\n",
       "City of Stars                                                           1\n",
       "The Gym                                                                 1\n",
       "Rahul Gandhi s heart                                                    1\n",
       "Gandhinagar India                                                       1\n",
       "Beside Maheswari Chambers Somajiguda Hyderabad Hyderabad Telangana      1\n",
       "Bhubaneshwar India                                                      1\n",
       "Mulund West Mumbai                                                      1\n",
       "Haldwani                                                                1\n",
       "Universe                                                                1\n",
       "Member Telangana BC Commission                                          1\n",
       "Chandigarh Hyderabad                                                    1\n",
       "Begumpet Hyderabad                                                      1\n",
       "Gurugram                                                                1\n",
       "Yemmiganuru kurnool district                                            1\n",
       "Whitestone Flushing                                                     1\n",
       "Australia                                                               1\n",
       "India Bharat Sanatan Vedic                                              1\n",
       "Coimbatore India                                                        1\n",
       "Makkah Al Mukarrama                                                     1\n",
       "Vidya Nagar Adilabad                                                    1\n",
       "KK Nagar Chennai                                                        1\n",
       "Ahmedabad India                                                         1\n",
       "Madurai South India                                                     1\n",
       "Africa                                                                  1\n",
       "Shamshabad Rajendra Nagar                                               1\n",
       "Washington DC via                                                       1\n",
       "chitlapakkam                                                            1\n",
       "Kandivali West Mumbai                                                   1\n",
       "Kochi                                                                   1\n",
       "Delhi NCR                                                               1\n",
       "Hyderabad Vijayawada                                                    1\n",
       "India Mumbai Thane                                                      1\n",
       "Vasai Maharashtra India                                                 1\n",
       "Tamilnadu India                                                         1\n",
       "Fremont CA                                                              1\n",
       "CHENNAI                                                                 1\n",
       "WEST BENGAL INDIA                                                       1\n",
       "Pune                                                                    1\n",
       "Medellin CO                                                             1\n",
       "HYDERABAD                                                               1\n",
       "Chennai From Kollam Kerala                                              1\n",
       "Shillong Bengaluru India                                                1\n",
       "korattur Chennai                                                        1\n",
       "NOIDA INDIA                                                             1\n",
       "Puducherry                                                              1\n",
       "Tanjore                                                                 1\n",
       "Navi Mumbai India                                                       1\n",
       "Zurich Switzerland                                                      1\n",
       "Bandra                                                                  1\n",
       "Earth                                                                   1\n",
       "Ahmedabad Delhi Mumbai IN                                               1\n",
       "Mira Road                                                               1\n",
       "Name: home_location, dtype: int64"
      ]
     },
     "execution_count": 13,
     "metadata": {},
     "output_type": "execute_result"
    }
   ],
   "source": [
    "data[\"home_location\"].value_counts()"
   ]
  },
  {
   "cell_type": "code",
   "execution_count": null,
   "metadata": {},
   "outputs": [],
   "source": [
    "## As you know Chennai India is same as Chennai or chennai. Hense Replacing all by Chennai India"
   ]
  },
  {
   "cell_type": "code",
   "execution_count": 14,
   "metadata": {},
   "outputs": [],
   "source": [
    "# Determining the locations which are starting from Chennai\n",
    "chennai_val=[val for val in data['home_location'].unique() if (val.split(\" \")[0]==\"Chennai\") | (val.split(\" \")[0]==\"chennai\")|(val.split(\" \")[0]==\"CHENNAI\")]"
   ]
  },
  {
   "cell_type": "code",
   "execution_count": 15,
   "metadata": {},
   "outputs": [
    {
     "data": {
      "text/plain": [
       "['Chennai',\n",
       " 'Chennai India',\n",
       " 'Chennai Tamil Nadu',\n",
       " 'Chennai Tamil nadu India',\n",
       " 'Chennai Tamil Nadu India',\n",
       " 'Chennai Tamilnadu',\n",
       " 'Chennai Tamilnadu India',\n",
       " 'chennai',\n",
       " 'CHENNAI PERIA MET',\n",
       " 'CHENNAI',\n",
       " 'chennai india',\n",
       " 'Chennai From Kollam Kerala',\n",
       " 'Chennai Auroville Kalvarayan',\n",
       " 'Chennai india',\n",
       " 'chennai INDIA']"
      ]
     },
     "execution_count": 15,
     "metadata": {},
     "output_type": "execute_result"
    }
   ],
   "source": [
    "chennai_val"
   ]
  },
  {
   "cell_type": "code",
   "execution_count": 16,
   "metadata": {},
   "outputs": [],
   "source": [
    "# Determining the locations which are starting from Hyderabad\n",
    "hyderabad_val=[val for val in data['home_location'].unique() if (val.split(\" \")[0]==\"Hyderabad\") | (val.split(\" \")[0]==\"hyderabad\")|(val.split(\" \")[0]==\"HYDERABAD\")]"
   ]
  },
  {
   "cell_type": "code",
   "execution_count": 17,
   "metadata": {},
   "outputs": [
    {
     "data": {
      "text/plain": [
       "['Hyderabad',\n",
       " 'Hyderabad India',\n",
       " 'Hyderabad India thalapathy',\n",
       " 'Hyderabad Chennai India',\n",
       " 'Hyderabad Telangana',\n",
       " 'Hyderabad Pakistan',\n",
       " 'Hyderabad Medak',\n",
       " 'Hyderabad Bengaluru',\n",
       " 'Hyderabad Andhra Pradesh',\n",
       " 'Hyderabad Telangana State',\n",
       " 'Hyderabad mumbai India',\n",
       " 'hyderabad',\n",
       " 'HYDERABAD',\n",
       " 'Hyderabad Telangana India',\n",
       " 'Hyderabad India Kolkata',\n",
       " 'Hyderabad India Calcutta',\n",
       " 'Hyderabad Deccan',\n",
       " 'Hyderabad india',\n",
       " 'Hyderabad Vijayawada']"
      ]
     },
     "execution_count": 17,
     "metadata": {},
     "output_type": "execute_result"
    }
   ],
   "source": [
    "hyderabad_val"
   ]
  },
  {
   "cell_type": "code",
   "execution_count": 18,
   "metadata": {},
   "outputs": [],
   "source": [
    "# Determining the locations which are starting from Mumbai\n",
    "mumbai_val=[val for val in data['home_location'].unique() if (val.split(\" \")[0]==\"Mumbai\") | (val.split(\" \")[0]==\"mumbai\")|(val.split(\" \")[0]==\"MUMBAI\")]"
   ]
  },
  {
   "cell_type": "code",
   "execution_count": 19,
   "metadata": {},
   "outputs": [
    {
     "data": {
      "text/plain": [
       "['Mumbai Maharashtra',\n",
       " 'Mumbai India',\n",
       " 'Mumbai',\n",
       " 'Mumbai Ahmedabad India',\n",
       " 'mumbai',\n",
       " 'Mumbai Maharashtra India',\n",
       " 'Mumbai Thane',\n",
       " 'Mumbai Maharashtra BHARAT',\n",
       " 'Mumbai Delhi NCR',\n",
       " 'Mumbai Hyderabad']"
      ]
     },
     "execution_count": 19,
     "metadata": {},
     "output_type": "execute_result"
    }
   ],
   "source": [
    "mumbai_val"
   ]
  },
  {
   "cell_type": "code",
   "execution_count": 20,
   "metadata": {},
   "outputs": [],
   "source": [
    "data[\"home_location\"].replace(mumbai_val,\"Mumbai India\",inplace=True)\n",
    "data[\"home_location\"].replace(hyderabad_val,\"Hyderabad India\",inplace=True)\n",
    "data[\"home_location\"].replace(chennai_val,\"Chennai India\",inplace=True)"
   ]
  },
  {
   "cell_type": "code",
   "execution_count": 21,
   "metadata": {},
   "outputs": [],
   "source": [
    "data[\"tweet_location\"].replace(mumbai_val,\"Mumbai India\",inplace=True)\n",
    "data[\"tweet_location\"].replace(hyderabad_val,\"Hyderabad India\",inplace=True)\n",
    "data[\"tweet_location\"].replace(chennai_val,\"Chennai India\",inplace=True)"
   ]
  },
  {
   "cell_type": "code",
   "execution_count": 22,
   "metadata": {},
   "outputs": [
    {
     "data": {
      "text/plain": [
       "India                                                                 213\n",
       "Hyderabad India                                                       207\n",
       "Mumbai India                                                          197\n",
       "Chennai India                                                         161\n",
       "New Delhi India                                                        30\n",
       "New Delhi                                                              29\n",
       "Ranchi Jharkhand India                                                 22\n",
       "Delhi                                                                  18\n",
       "Tamil Nadu India                                                       17\n",
       "Bengaluru                                                              13\n",
       "Bengaluru India                                                        11\n",
       "Bangalore                                                               9\n",
       "INDIA                                                                   8\n",
       "Kolkata India                                                           7\n",
       "india                                                                   7\n",
       "US                                                                      6\n",
       "Dubai United Arab Emirates                                              6\n",
       "Pune India                                                              6\n",
       "Kerala India                                                            5\n",
       "Andhra Pradesh India                                                    5\n",
       "Indore India                                                            5\n",
       "Worldwide                                                               5\n",
       "Dhaka Bangladesh                                                        5\n",
       "Singapore                                                               5\n",
       "bengaluru india                                                         4\n",
       "Durgapur West Bengal                                                    4\n",
       "Pakistan                                                                4\n",
       "Bharat                                                                  4\n",
       "Uttar Pradesh India                                                     4\n",
       "Maharashtra India                                                       3\n",
       "Bangalore India                                                         3\n",
       "Jaipur India                                                            3\n",
       "New Delhi Delhi                                                         3\n",
       "Global                                                                  3\n",
       "Ahmadabad City India                                                    3\n",
       "The Indo European Homeland                                              3\n",
       "South India                                                             3\n",
       "Karnataka India                                                         3\n",
       "Gurgaon                                                                 3\n",
       "Perambur Purasavakam India                                              2\n",
       "United States                                                           2\n",
       "Phuket Province Thailand                                                2\n",
       "All over Mumbai                                                         2\n",
       "hasthinapuram                                                           2\n",
       "Nagpur                                                                  2\n",
       "Bharatvarsh                                                             2\n",
       "she her                                                                 2\n",
       "mangalore                                                               2\n",
       "Magrathea                                                               2\n",
       "Where sport happens                                                     2\n",
       "Noida                                                                   2\n",
       "Surat India                                                             2\n",
       "Islamabad Pakistan                                                      2\n",
       "Thanjavur India                                                         2\n",
       "USA                                                                     2\n",
       "vijayawada india                                                        2\n",
       "Bangalore Delhi Hyd Pune                                                2\n",
       "HINDUSTAN                                                               2\n",
       "Tamilnadu                                                               2\n",
       "Delhi India                                                             2\n",
       "Nepal                                                                   2\n",
       "United Kingdom                                                          2\n",
       "DEL LKO                                                                 2\n",
       "Karachi Pakistan                                                        2\n",
       "Rajasthan                                                               2\n",
       "Azadpur New Delhi                                                       2\n",
       "Bombay India                                                            2\n",
       "City of Dreams                                                          2\n",
       "Oslo Norway                                                             2\n",
       "Delhi NCR India                                                         2\n",
       "bharata                                                                 2\n",
       "Thane Maharashtra                                                       2\n",
       "Gujurat Pakistan                                                        2\n",
       "Kolkata                                                                 2\n",
       "Earth                                                                   1\n",
       "Ahmedabad Delhi Mumbai IN                                               1\n",
       "Yemmiganuru kurnool district                                            1\n",
       "manhoosabad                                                             1\n",
       "SidNaaz                                                                 1\n",
       "mainly bts txt lorde                                                    1\n",
       "New Delhi Chennai                                                       1\n",
       "Patna India                                                             1\n",
       "India Bharat Sanatan Vedic                                              1\n",
       "India Mumbai Thane                                                      1\n",
       "Global INDIA                                                            1\n",
       "Kathmandu Nepal                                                         1\n",
       "Degec                                                                   1\n",
       "Gurgaon India                                                           1\n",
       "Find me in MUMBAI                                                       1\n",
       "Gurugram                                                                1\n",
       "Australia                                                               1\n",
       "Varsha s basement                                                       1\n",
       "South Africa                                                            1\n",
       "Rajendra Nagar India                                                    1\n",
       "Newdelhi                                                                1\n",
       "miryalaguda                                                             1\n",
       "Metha Nagar Nungambakkam                                                1\n",
       "Jammu India                                                             1\n",
       "Kochi                                                                   1\n",
       "Surat Gujarat                                                           1\n",
       "Varanasi                                                                1\n",
       "Chattisgarh                                                             1\n",
       "Kandivali West Mumbai                                                   1\n",
       "Niger                                                                   1\n",
       "chitlapakkam                                                            1\n",
       "City of Stars                                                           1\n",
       "Machilipatnam Vijayawada                                                1\n",
       "Vaikuntham                                                              1\n",
       "Washington DC via                                                       1\n",
       "Ahmedabad India                                                         1\n",
       "Vasai Maharashtra India                                                 1\n",
       "Toronto Canada                                                          1\n",
       "Trichy Chennai                                                          1\n",
       "Vizag Andhra pradesh INDIA                                              1\n",
       "Jupiter                                                                 1\n",
       "Uppal Hyderabad                                                         1\n",
       "Bangalore Hyderabad India                                               1\n",
       "Puducherry                                                              1\n",
       "Bonn Germany                                                            1\n",
       "KK Nagar Chennai                                                        1\n",
       "Begumpet Hyderabad                                                      1\n",
       "Vidya Nagar Adilabad                                                    1\n",
       "Indraprastha                                                            1\n",
       "Assam                                                                   1\n",
       "Africa                                                                  1\n",
       "NOIDA INDIA                                                             1\n",
       "Bandra                                                                  1\n",
       "Utopia                                                                  1\n",
       "Makkah Al Mukarrama                                                     1\n",
       "Mohali India                                                            1\n",
       "United States India                                                     1\n",
       "South of Vindhya                                                        1\n",
       "United States India EMEA                                                1\n",
       "Oblivion                                                                1\n",
       "Int l Relations Politics                                                1\n",
       "Earth Milky way                                                         1\n",
       "India USA                                                               1\n",
       "Lucknow Uttar Pradesh India                                             1\n",
       "Kolkata West Bengal India                                               1\n",
       "Ghatkopar Mumbai                                                        1\n",
       "San Ramon CA                                                            1\n",
       "Del Blr Mum Chennai                                                     1\n",
       "NOIDA                                                                   1\n",
       "Maansarovar                                                             1\n",
       "France                                                                  1\n",
       "Sonyliv                                                                 1\n",
       "Korattur Chennai Tamil Nadu                                             1\n",
       "cloud of Hell                                                           1\n",
       "Al Khobar Saudi Arabia                                                  1\n",
       "Sharepoint                                                              1\n",
       "Planet Earth                                                            1\n",
       "Pune                                                                    1\n",
       "The Earth                                                               1\n",
       "India DBS Fellow                                                        1\n",
       "Vijayawada India                                                        1\n",
       "Aerocity New Delhi                                                      1\n",
       "Pathanamthitta India                                                    1\n",
       "National Capital Region                                                 1\n",
       "Guwahati                                                                1\n",
       "Thane                                                                   1\n",
       "Stockholm Sweden                                                        1\n",
       "India Visakhapatnam                                                     1\n",
       "Mulund West Mumbai                                                      1\n",
       "Midway UT                                                               1\n",
       "New Jersey USA                                                          1\n",
       "Washington DC                                                           1\n",
       "Antarctica                                                              1\n",
       "Ph                                                                      1\n",
       "E N                                                                     1\n",
       "Worldwide applicable                                                    1\n",
       "Coruscant                                                               1\n",
       "Tanjore                                                                 1\n",
       "Leek Staffs England                                                     1\n",
       "Sialkot Pakistan                                                        1\n",
       "Maduranthakam India                                                     1\n",
       "Navi Mumbai India                                                       1\n",
       "Chand pe hu BC                                                          1\n",
       "Patna bihar India                                                       1\n",
       "New York USA                                                            1\n",
       "North West England                                                      1\n",
       "Rahul Gandhi s heart                                                    1\n",
       "Zurich Switzerland                                                      1\n",
       "Pragati Maidan New Delhi                                                1\n",
       "korattur Chennai                                                        1\n",
       "SULLURUPET INDIA                                                        1\n",
       "Shillong Bengaluru India                                                1\n",
       "AbuDhabi SanFransisco London                                            1\n",
       "KADAPA blore INDIA                                                      1\n",
       "Delhi Faridabad Ghaziabad                                               1\n",
       "Sunnyvale CA                                                            1\n",
       "planet OdbolzToys                                                       1\n",
       "Dak i patha Bh ratam                                                    1\n",
       "Universe                                                                1\n",
       "Member Telangana BC Commission                                          1\n",
       "Chandigarh Hyderabad                                                    1\n",
       "Kyun kya karoge jaankar                                                 1\n",
       "Saitama Japan                                                           1\n",
       "WEST BENGAL INDIA                                                       1\n",
       "T                                                                       1\n",
       "Medellin CO                                                             1\n",
       "Fremont CA                                                              1\n",
       "Whitestone Flushing                                                     1\n",
       "Bengaluru INDIA                                                         1\n",
       "California USA                                                          1\n",
       "Kailaasa                                                                1\n",
       "Turbhe                                                                  1\n",
       "yelahanka Bangalore                                                     1\n",
       "Kalyan Dombivli India                                                   1\n",
       "Arumbakkam                                                              1\n",
       "Mira Road                                                               1\n",
       "Punjab India                                                            1\n",
       "Chandigarh India                                                        1\n",
       "Maharashtra                                                             1\n",
       "British India                                                           1\n",
       "SAARE JAHANSE ACCHA HINDUSTAN                                           1\n",
       "delhi                                                                   1\n",
       "San Francisco                                                           1\n",
       "Gujarat india                                                           1\n",
       "Mollem                                                                  1\n",
       "Doda Jammu And Kashmir India                                            1\n",
       "England United Kingdom                                                  1\n",
       "Bombay                                                                  1\n",
       "SR Nagar Hyderabad                                                      1\n",
       "Madras Tamil Nadu                                                       1\n",
       "Tamilnadu India                                                         1\n",
       "Anna Nagar Chennai                                                      1\n",
       "Goa India                                                               1\n",
       "On Earth                                                                1\n",
       "Malaysia                                                                1\n",
       "Jeedimetla Medchal                                                      1\n",
       "Tamil Nadu                                                              1\n",
       "Telangana                                                               1\n",
       "Pragathi Nagar Medchal                                                  1\n",
       "Dubai                                                                   1\n",
       "https g page violetspark gm                                             1\n",
       "Vishakhapatnam India                                                    1\n",
       "vaniyambadi                                                             1\n",
       "Somewhere in Earth                                                      1\n",
       "CODE SKR ad                                                             1\n",
       "Chembur Mumbai                                                          1\n",
       "Houston TX                                                              1\n",
       "Perambalur                                                              1\n",
       "Shamshabad Rajendra Nagar                                               1\n",
       "Pallipalayam India                                                      1\n",
       "Bangalore KA                                                            1\n",
       "N E                                                                     1\n",
       "AP TN                                                                   1\n",
       "Bhoomi                                                                  1\n",
       "Trivandrum India                                                        1\n",
       "Between Europe what s ahead                                             1\n",
       "Bh rat                                                                  1\n",
       "Guwahati Assam India                                                    1\n",
       "The Gym                                                                 1\n",
       "Varanasi India                                                          1\n",
       "Coimbatore India                                                        1\n",
       "Belgium                                                                 1\n",
       "Beside Maheswari Chambers Somajiguda Hyderabad Hyderabad Telangana      1\n",
       "Hari Chmbrs SBS Rd Fort                                                 1\n",
       "Hyderbad                                                                1\n",
       "Bhubaneshwar India                                                      1\n",
       "San Jose CA                                                             1\n",
       "Vadodara Gujarat India                                                  1\n",
       "Vizag India                                                             1\n",
       "Idar Gujarat                                                            1\n",
       "Bangkok Thailand                                                        1\n",
       "UK                                                                      1\n",
       "Trichy                                                                  1\n",
       "Andheri West Mumbai                                                     1\n",
       "bharat                                                                  1\n",
       "Delhi NCR                                                               1\n",
       "Patancheru Sangareddy                                                   1\n",
       "kanyakumari payapulla                                                   1\n",
       "Sultanpur New Delhi                                                     1\n",
       "Tokyo                                                                   1\n",
       "over populated planet                                                   1\n",
       "Bharat India                                                            1\n",
       "Kanpur India                                                            1\n",
       "Matheran India                                                          1\n",
       "Doha Qatar                                                              1\n",
       "CGK JOG                                                                 1\n",
       "London United Kingdom                                                   1\n",
       "Kalyan Dombivali India                                                  1\n",
       "Oklahoma USA                                                            1\n",
       "Lahore Pakistan                                                         1\n",
       "Winden                                                                  1\n",
       "Kerala                                                                  1\n",
       "uk                                                                      1\n",
       "Kukatpally Rajendra Nagar                                               1\n",
       "Punjagutta Hyderabad                                                    1\n",
       "Bombay Mumbai                                                           1\n",
       "United States of Americauk                                              1\n",
       "jahan girne ko mil jaye                                                 1\n",
       "India France Malaysia Russia                                            1\n",
       "Gujarat India                                                           1\n",
       "existential crisis                                                      1\n",
       "kuwait                                                                  1\n",
       "Bhopal India                                                            1\n",
       "Gandhinagar India                                                       1\n",
       "Harrow London                                                           1\n",
       "Vishwam                                                                 1\n",
       "sawantwadi                                                              1\n",
       "Mum                                                                     1\n",
       "Vasai                                                                   1\n",
       "Berlin Germany                                                          1\n",
       "South Mumbai                                                            1\n",
       "Bhopal Madhya Pradesh                                                   1\n",
       "God s Own Country                                                       1\n",
       "Duraiswamy Rd T Nagar                                                   1\n",
       "Bettiah India                                                           1\n",
       "Ssr ki yado mai                                                         1\n",
       "Bhagyanagar Hyderabad India                                             1\n",
       "Baramulla Kashmir                                                       1\n",
       "London UK                                                               1\n",
       "Navsari India                                                           1\n",
       "Las Vegas                                                               1\n",
       "Kurla West Mumbai                                                       1\n",
       "Dammam Kingdom of Saudi Arabi                                           1\n",
       "Main Hoon hi Nhi is Duniya ki                                           1\n",
       "Haryana India                                                           1\n",
       "Medak India                                                             1\n",
       "Madhepura India                                                         1\n",
       "Thiruvananthapuram Kerala                                               1\n",
       "Spokane Valley WA                                                       1\n",
       "World Wide Web                                                          1\n",
       "Jajpur Odisha                                                           1\n",
       "Home sweet home                                                         1\n",
       "Tharakshi Uthukottai                                                    1\n",
       "madhapur                                                                1\n",
       "Los Angeles CA                                                          1\n",
       "Ahmedabad City India                                                    1\n",
       "World                                                                   1\n",
       "Chirala India                                                           1\n",
       "KoparKhairane Navi Mumbai                                               1\n",
       "Akhand Bharat                                                           1\n",
       "Gaya India                                                              1\n",
       "Noida Uttar Pradesh                                                     1\n",
       "Mira Road Mumbai                                                        1\n",
       "Chachro Sindh Pakistan                                                  1\n",
       "Madurai South India                                                     1\n",
       "Nagpur India                                                            1\n",
       "Sanand Industrial Area Gujara                                           1\n",
       "Himayat Nagar Hyderabad                                                 1\n",
       "Bandra West Mumbai                                                      1\n",
       "Haldwani                                                                1\n",
       "South of India                                                          1\n",
       "Nellore India                                                           1\n",
       "vellore                                                                 1\n",
       "Vijayawada                                                              1\n",
       "Vasudhaiva Kutumbakam                                                   1\n",
       "New Delhi INDIA                                                         1\n",
       "Palavakkam ECR Chennai                                                  1\n",
       "NYC                                                                     1\n",
       "Goregaon West Mumbai                                                    1\n",
       "Chicago IL                                                              1\n",
       "Singrauli MP India                                                      1\n",
       "Belagavi Karnataka India                                                1\n",
       "In some one s heart                                                     1\n",
       "Ask your Mama                                                           1\n",
       "Coimbatore Jaipur Jodhpur                                               1\n",
       "Karimnagar India                                                        1\n",
       "Ningyak bekadu                                                          1\n",
       "Name: home_location, dtype: int64"
      ]
     },
     "execution_count": 22,
     "metadata": {},
     "output_type": "execute_result"
    }
   ],
   "source": [
    "data[\"home_location\"].value_counts()"
   ]
  },
  {
   "cell_type": "code",
   "execution_count": 23,
   "metadata": {},
   "outputs": [
    {
     "data": {
      "text/plain": [
       "361"
      ]
     },
     "execution_count": 23,
     "metadata": {},
     "output_type": "execute_result"
    }
   ],
   "source": [
    "data[\"home_location\"].nunique()"
   ]
  },
  {
   "cell_type": "code",
   "execution_count": 24,
   "metadata": {},
   "outputs": [
    {
     "data": {
      "text/plain": [
       "376"
      ]
     },
     "execution_count": 24,
     "metadata": {},
     "output_type": "execute_result"
    }
   ],
   "source": [
    "data[\"tweet_location\"].nunique()"
   ]
  },
  {
   "cell_type": "code",
   "execution_count": 25,
   "metadata": {},
   "outputs": [],
   "source": [
    "df=data.copy()"
   ]
  },
  {
   "cell_type": "code",
   "execution_count": 26,
   "metadata": {},
   "outputs": [],
   "source": [
    "data[\"mentioned_location\"].replace({\"Hyderabad\":1,\"Mumbai\":2,\"Chennai\":3},inplace=True)"
   ]
  },
  {
   "cell_type": "code",
   "execution_count": 27,
   "metadata": {},
   "outputs": [],
   "source": [
    "sample=data[\"text\"]+\" \"+data[\"home_location\"]+\" \"+data[\"tweet_location\"]"
   ]
  },
  {
   "cell_type": "code",
   "execution_count": 28,
   "metadata": {},
   "outputs": [],
   "source": [
    "from nltk.corpus import stopwords"
   ]
  },
  {
   "cell_type": "markdown",
   "metadata": {},
   "source": [
    "### Cleaning Stopwords from text"
   ]
  },
  {
   "cell_type": "code",
   "execution_count": 29,
   "metadata": {},
   "outputs": [],
   "source": [
    "sentences=[]\n",
    "for sen in sample:\n",
    "    sen=sen.split()\n",
    "    sen=[word for word in sen if word not in set(stopwords.words(\"english\"))]\n",
    "    sen=\" \".join(sen)\n",
    "    sentences.append(sen)"
   ]
  },
  {
   "cell_type": "code",
   "execution_count": 30,
   "metadata": {},
   "outputs": [],
   "source": [
    "## Importing Libraries\n",
    "from sklearn.naive_bayes import MultinomialNB,GaussianNB\n",
    "from sklearn.svm import SVC\n",
    "from sklearn.tree import DecisionTreeClassifier\n",
    "from sklearn.feature_extraction.text import TfidfVectorizer,CountVectorizer"
   ]
  },
  {
   "cell_type": "markdown",
   "metadata": {},
   "source": [
    "# Model Building"
   ]
  },
  {
   "cell_type": "markdown",
   "metadata": {},
   "source": [
    "### Applying Bag of Words Techniques"
   ]
  },
  {
   "cell_type": "code",
   "execution_count": 32,
   "metadata": {},
   "outputs": [],
   "source": [
    "vectorizer=CountVectorizer(max_features=2000)"
   ]
  },
  {
   "cell_type": "code",
   "execution_count": 33,
   "metadata": {},
   "outputs": [],
   "source": [
    "X=vectorizer.fit_transform(sample).toarray()"
   ]
  },
  {
   "cell_type": "code",
   "execution_count": 34,
   "metadata": {},
   "outputs": [
    {
     "data": {
      "text/plain": [
       "(1404, 2000)"
      ]
     },
     "execution_count": 34,
     "metadata": {},
     "output_type": "execute_result"
    }
   ],
   "source": [
    "X.shape"
   ]
  },
  {
   "cell_type": "code",
   "execution_count": 35,
   "metadata": {},
   "outputs": [],
   "source": [
    "y=data[\"mentioned_location\"]"
   ]
  },
  {
   "cell_type": "code",
   "execution_count": 36,
   "metadata": {},
   "outputs": [],
   "source": [
    "from sklearn.model_selection import train_test_split\n",
    "train_X,test_X,train_y,test_y=train_test_split(X,y,test_size=0.25,random_state=100)"
   ]
  },
  {
   "cell_type": "code",
   "execution_count": 38,
   "metadata": {},
   "outputs": [],
   "source": [
    "from sklearn.metrics import accuracy_score"
   ]
  },
  {
   "cell_type": "code",
   "execution_count": 40,
   "metadata": {},
   "outputs": [
    {
     "data": {
      "text/plain": [
       "0.5897435897435898"
      ]
     },
     "execution_count": 40,
     "metadata": {},
     "output_type": "execute_result"
    }
   ],
   "source": [
    "# Applying GaussianNB model \n",
    "gauss_model=GaussianNB()\n",
    "gauss_model.fit(train_X,train_y)\n",
    "pred=gauss_model.predict(test_X)\n",
    "accuracy_score(test_y,pred)"
   ]
  },
  {
   "cell_type": "code",
   "execution_count": 42,
   "metadata": {},
   "outputs": [
    {
     "data": {
      "text/plain": [
       "0.8632478632478633"
      ]
     },
     "execution_count": 42,
     "metadata": {},
     "output_type": "execute_result"
    }
   ],
   "source": [
    "# Applying MultinomialNB model\n",
    "multi_gauss_model=MultinomialNB()\n",
    "multi_gauss_model.fit(train_X,train_y)\n",
    "pred=multi_gauss_model.predict(test_X)\n",
    "accuracy_score(test_y,pred)"
   ]
  },
  {
   "cell_type": "code",
   "execution_count": 44,
   "metadata": {},
   "outputs": [
    {
     "data": {
      "text/plain": [
       "0.886039886039886"
      ]
     },
     "execution_count": 44,
     "metadata": {},
     "output_type": "execute_result"
    }
   ],
   "source": [
    "# Applying SVM model\n",
    "svc=SVC()\n",
    "svc.fit(train_X,train_y)\n",
    "pred=svc.predict(test_X)\n",
    "accuracy_score(test_y,pred)"
   ]
  },
  {
   "cell_type": "code",
   "execution_count": 49,
   "metadata": {},
   "outputs": [
    {
     "data": {
      "text/plain": [
       "0.8717948717948718"
      ]
     },
     "execution_count": 49,
     "metadata": {},
     "output_type": "execute_result"
    }
   ],
   "source": [
    "# Applying Decision Tree model \n",
    "dt=DecisionTreeClassifier()\n",
    "dt.fit(train_X,train_y)\n",
    "pred=dt.predict(test_X)\n",
    "accuracy_score(test_y,pred)"
   ]
  },
  {
   "cell_type": "code",
   "execution_count": 57,
   "metadata": {},
   "outputs": [
    {
     "data": {
      "text/plain": [
       "Text(0, 0.5, 'Accuracies')"
      ]
     },
     "execution_count": 57,
     "metadata": {},
     "output_type": "execute_result"
    },
    {
     "data": {
      "image/png": "[encoded data removed]",
      "text/plain": [
       "<Figure size 432x288 with 1 Axes>"
      ]
     },
     "metadata": {
      "needs_background": "light"
     },
     "output_type": "display_data"
    }
   ],
   "source": [
    "models=[\"GaussianNB\",\"MultinomialNB\",\"SVC\",\"DecisionTreeClassifier\"]\n",
    "scores=[0.589,0.863,0.88,0.87]\n",
    "plt.bar(x=models,height=scores,color=[\"red\",\"blue\",\"yellow\",\"black\"])\n",
    "plt.title(\"Using Bag of Words Model\")\n",
    "plt.ylabel(\"Accuracies\")"
   ]
  },
  {
   "cell_type": "code",
   "execution_count": null,
   "metadata": {},
   "outputs": [],
   "source": [
    "## Our Bag of words model doesn't give semantic meaning to word . Hence we can use TF-IDF method"
   ]
  },
  {
   "cell_type": "markdown",
   "metadata": {},
   "source": [
    "### Applying TF-IDF(Term frequency and Inverse document frequency) Techniques which gives semantic meaning to words"
   ]
  },
  {
   "cell_type": "code",
   "execution_count": 58,
   "metadata": {},
   "outputs": [],
   "source": [
    "tf_vectorizer=TfidfVectorizer()"
   ]
  },
  {
   "cell_type": "code",
   "execution_count": 59,
   "metadata": {},
   "outputs": [],
   "source": [
    "X=tf_vectorizer.fit_transform(sample).toarray()"
   ]
  },
  {
   "cell_type": "code",
   "execution_count": 60,
   "metadata": {},
   "outputs": [
    {
     "data": {
      "text/plain": [
       "(1404, 6125)"
      ]
     },
     "execution_count": 60,
     "metadata": {},
     "output_type": "execute_result"
    }
   ],
   "source": [
    "X.shape"
   ]
  },
  {
   "cell_type": "code",
   "execution_count": 61,
   "metadata": {},
   "outputs": [],
   "source": [
    "from sklearn.model_selection import train_test_split\n",
    "train_X,test_X,train_y,test_y=train_test_split(X,y,test_size=0.25,random_state=1000)"
   ]
  },
  {
   "cell_type": "code",
   "execution_count": 62,
   "metadata": {},
   "outputs": [
    {
     "name": "stdout",
     "output_type": "stream",
     "text": [
      "0.6210826210826211\n"
     ]
    }
   ],
   "source": [
    "# Applying GaussianNB model \n",
    "gauss_model=GaussianNB()\n",
    "gauss_model.fit(train_X,train_y)\n",
    "pred=gauss_model.predict(test_X)\n",
    "print(accuracy_score(test_y,pred))"
   ]
  },
  {
   "cell_type": "code",
   "execution_count": 63,
   "metadata": {},
   "outputs": [
    {
     "data": {
      "text/plain": [
       "0.8319088319088319"
      ]
     },
     "execution_count": 63,
     "metadata": {},
     "output_type": "execute_result"
    }
   ],
   "source": [
    "# Applying MultinomialNB model \n",
    "multi_gauss_model=MultinomialNB()\n",
    "multi_gauss_model.fit(train_X,train_y)\n",
    "pred=multi_gauss_model.predict(test_X)\n",
    "accuracy_score(test_y,pred)"
   ]
  },
  {
   "cell_type": "code",
   "execution_count": 64,
   "metadata": {},
   "outputs": [
    {
     "data": {
      "text/plain": [
       "0.8803418803418803"
      ]
     },
     "execution_count": 64,
     "metadata": {},
     "output_type": "execute_result"
    }
   ],
   "source": [
    "# Applying SVM model \n",
    "svc=SVC()\n",
    "svc.fit(train_X,train_y)\n",
    "pred=svc.predict(test_X)\n",
    "accuracy_score(test_y,pred)"
   ]
  },
  {
   "cell_type": "code",
   "execution_count": 66,
   "metadata": {},
   "outputs": [
    {
     "data": {
      "text/plain": [
       "0.9002849002849003"
      ]
     },
     "execution_count": 66,
     "metadata": {},
     "output_type": "execute_result"
    }
   ],
   "source": [
    "# Applying Decision Tree model \n",
    "dt=DecisionTreeClassifier()\n",
    "dt.fit(train_X,train_y)\n",
    "pred=dt.predict(test_X)\n",
    "accuracy_score(test_y,pred)"
   ]
  },
  {
   "cell_type": "code",
   "execution_count": 68,
   "metadata": {},
   "outputs": [],
   "source": [
    "## Plotting models performances"
   ]
  },
  {
   "cell_type": "code",
   "execution_count": 67,
   "metadata": {},
   "outputs": [
    {
     "data": {
      "text/plain": [
       "Text(0, 0.5, 'Accuracies')"
      ]
     },
     "execution_count": 67,
     "metadata": {},
     "output_type": "execute_result"
    },
    {
     "data": {
      "image/png": "[encoded data removed]",
      "text/plain": [
       "<Figure size 432x288 with 1 Axes>"
      ]
     },
     "metadata": {
      "needs_background": "light"
     },
     "output_type": "display_data"
    }
   ],
   "source": [
    "models=[\"GaussianNB\",\"MultinomialNB\",\"SVC\",\"DecisionTreeClassifier\"]\n",
    "scores=[0.62,0.83,0.88,0.90]\n",
    "plt.bar(x=models,height=scores,color=[\"red\",\"blue\",\"yellow\",\"black\"])\n",
    "plt.title(\"Using Bag of Words Model\")\n",
    "plt.ylabel(\"Accuracies\")"
   ]
  },
  {
   "cell_type": "markdown",
   "metadata": {},
   "source": [
    "<--------------------------------------------- **Thank you**------------------------------------------->`"
   ]
  },
  {
   "cell_type": "code",
   "execution_count": null,
   "metadata": {},
   "outputs": [],
   "source": []
  }
 ],
 "metadata": {
  "kernelspec": {
   "display_name": "Python 3",
   "language": "python",
   "name": "python3"
  },
  "language_info": {
   "codemirror_mode": {
    "name": "ipython",
    "version": 3
   },
   "file_extension": ".py",
   "mimetype": "text/x-python",
   "name": "python",
   "nbconvert_exporter": "python",
   "pygments_lexer": "ipython3",
   "version": "3.7.7"
  }
 },
 "nbformat": 4,
 "nbformat_minor": 4
}
